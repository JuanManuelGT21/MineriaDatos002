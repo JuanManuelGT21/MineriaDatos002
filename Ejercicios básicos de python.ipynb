{
 "cells": [
  {
   "cell_type": "code",
   "execution_count": 8,
   "metadata": {},
   "outputs": [
    {
     "name": "stdout",
     "output_type": "stream",
     "text": [
      "Juan Manuel Garcia Tamez1725005\n"
     ]
    }
   ],
   "source": [
    "# Ejercicio 1\n",
    "nombre = \"Juan Manuel Garcia Tamez\"\n",
    "matricula = 1725005\n",
    "print (nombre+ str(matricula))"
   ]
  },
  {
   "cell_type": "code",
   "execution_count": 9,
   "metadata": {},
   "outputs": [
    {
     "name": "stdout",
     "output_type": "stream",
     "text": [
      "Introduce el primer número: 21\n",
      "Introduce el segundo número: 5\n",
      "\n",
      "La suma es:  26\n",
      "La resta es:  16\n",
      "La multiplicación es:  105\n",
      "La división es:  4.2\n",
      "La exponente del primer numero con el segundo es:  4084101\n"
     ]
    }
   ],
   "source": [
    "# Ejercicio 2\n",
    "a = int(input(\"Introduce el primer número: \"))\n",
    "b = int(input(\"Introduce el segundo número: \"))\n",
    "\n",
    "c = a+b\n",
    "d = a-b\n",
    "e = a*b\n",
    "f = a/b\n",
    "g = a**b\n",
    "\n",
    "print()\n",
    "print(\"La suma es: \",c)\n",
    "print(\"La resta es: \",d)\n",
    "print(\"La multiplicación es: \",e)\n",
    "print(\"La división es: \",f)\n",
    "print(\"La exponente del primer numero con el segundo es: \",g)"
   ]
  },
  {
   "cell_type": "code",
   "execution_count": 5,
   "metadata": {},
   "outputs": [
    {
     "name": "stdout",
     "output_type": "stream",
     "text": [
      "[3, 6, 9, 12, 15, 18, 21, 24, 27, 30]\n",
      "\n",
      "La suma de todos los numeros de la lista es:  165\n"
     ]
    }
   ],
   "source": [
    "# Ejericio 3\n",
    "import random\n",
    "cont = 0\n",
    "areglo =[i*3 for i in range(1,11)]\n",
    "print(areglo)\n",
    "for i in range(len(areglo)):\n",
    "    cont=cont+areglo[i]\n",
    "    \n",
    "print()\n",
    "print(\"La suma de todos los numeros de la lista es: \",cont)"
   ]
  },
  {
   "cell_type": "code",
   "execution_count": 16,
   "metadata": {},
   "outputs": [
    {
     "name": "stdout",
     "output_type": "stream",
     "text": [
      "Ingrese un número para revisar si es par o impar: 3\n",
      "\n",
      "El número es impar\n",
      "Escriba un número para revisar si es primo o no: 4\n",
      "\n",
      "El número no es primo\n"
     ]
    }
   ],
   "source": [
    "# Ejercicio 4\n",
    "a = int(input(\"Ingrese un número para revisar si es par o impar: \"))\n",
    "\n",
    "if a%2==0:\n",
    "    print()\n",
    "    print(\"El número es par\")\n",
    "else: \n",
    "    print()\n",
    "    print(\"El número es impar\")\n",
    "\n",
    "b = int(input(\"Escriba un número para revisar si es primo o no: \"))\n",
    "cont = 0\n",
    "for n in range(1, b+1):\n",
    "    if(b%n == 0):\n",
    "        cont==cont+1\n",
    "    \n",
    "    if cont == 2:\n",
    "        print()\n",
    "        print(\"El número si es primo\")\n",
    "    else:\n",
    "        print()\n",
    "        print(\"El número no es primo\")\n",
    "        break"
   ]
  },
  {
   "cell_type": "code",
   "execution_count": 18,
   "metadata": {},
   "outputs": [
    {
     "name": "stdout",
     "output_type": "stream",
     "text": [
      "MENU\n",
      "\n",
      "1.Suma\n",
      "2.Resta\n",
      "3.Multiplicación\n",
      "4.División\n",
      "5.Exponente\n",
      "6.Salir\n",
      "\n",
      "¿Qué operacion desea realizar?: 2\n",
      "\n",
      "Escriba un numéro: 5\n",
      "Escriba el segundo número: 3\n",
      "\n",
      "Resta = 2\n"
     ]
    }
   ],
   "source": [
    "# Ejercicio 5\n",
    "def Suma(a,b):\n",
    "    c=a+b\n",
    "    return c\n",
    "def Resta(a,b):\n",
    "    c=a-b\n",
    "    return c\n",
    "def Multiplicacion(a,b):\n",
    "    c=a*b\n",
    "    return c\n",
    "def División(a,b):\n",
    "    c=a/b\n",
    "    return c\n",
    "def Exponente(a,b):\n",
    "    c=a**b\n",
    "    return c\n",
    "\n",
    "def Menu():  \n",
    "    print (\"MENU\\n\\n1.Suma\\n2.Resta\\n3.Multiplicación\\n4.División\\n5.Exponente\\n6.Salir\")\n",
    "def Calculadora():\n",
    "    Menu()\n",
    "    print()\n",
    "    opc = int(input(\"¿Qué operacion desea realizar?: \"))\n",
    "    print()\n",
    "    a = int(input(\"Escriba un numéro: \"))\n",
    "    b = int(input(\"Escriba el segundo número: \"))\n",
    "    while (opc >0 and opc <6):\n",
    "        if (opc==1):\n",
    "            print()\n",
    "            print (\"Suma = \",Suma(a,b))\n",
    "            break\n",
    "        elif(opc==2):\n",
    "            print()\n",
    "            print (\"Resta =\",Resta(a,b))\n",
    "            break\n",
    "        elif(opc==3):\n",
    "            print()\n",
    "            print (\"Multiplicación =\", Multiplicacion(a,b))\n",
    "            break\n",
    "        elif(opc==4):\n",
    "            print()\n",
    "            print (\"División = \", Division(a,b))\n",
    "            break            \n",
    "        elif(opc==5):\n",
    "            print()\n",
    "            print (\"Exponente =\", Exponente(a,b))\n",
    "            break\n",
    "            \n",
    "Calculadora()"
   ]
  },
  {
   "cell_type": "code",
   "execution_count": 20,
   "metadata": {},
   "outputs": [
    {
     "ename": "SyntaxError",
     "evalue": "invalid syntax (<ipython-input-20-52bcb77a6446>, line 66)",
     "output_type": "error",
     "traceback": [
      "\u001b[1;36m  File \u001b[1;32m\"<ipython-input-20-52bcb77a6446>\"\u001b[1;36m, line \u001b[1;32m66\u001b[0m\n\u001b[1;33m    else:\u001b[0m\n\u001b[1;37m    ^\u001b[0m\n\u001b[1;31mSyntaxError\u001b[0m\u001b[1;31m:\u001b[0m invalid syntax\n"
     ]
    }
   ],
   "source": [
    "# Ejercicio 6\n",
    "#Tuplas\n",
    "import os\n",
    "\n",
    "os.system('cls ')\n",
    "\n",
    "a = 5.5\n",
    "b = 1\n",
    "c = True\n",
    "d = 'hola'\n",
    "print('Variables: ',str(a),',',str(b),',',str(c),',',str(d))\n",
    "print('',type(a),'\\n',type(b),'\\n',type(c),'\\n',type(d))\n",
    "\n",
    "\n",
    "tup = (1,2,3,4,5,6,7,8,9)\n",
    "z = len(tup)\n",
    "print(str(' Tupla:'),str(tup))\n",
    "print(' Primer Valor: ',str(tup[0]),'\\n','Ultimo Valor: ',str(tup[z-1]))\n",
    "\n",
    "\n",
    "print('Tupla antes de agregar strings:',str(tup),'\\n')\n",
    "str1 = str(input('Ingrese primer String: '))\n",
    "str2 = str(input('Ingrese segundo String: '))\n",
    "str3 = str(input('Ingrese tercer String: '))\n",
    "tup = tup + (str1, str2, str3)\n",
    "print('\\nTupla despues de agregar strings:',str(tup))\n",
    "while(True):\n",
    "    print('Tupla:',str(tup),'\\n\\nQuieres verificar strings o numeros? (Escribe S o N):')\n",
    "    x = str(input())\n",
    "    if x == 'S':\n",
    "        x = str(input('\\nIngresa string a verificar (Caps sensitive): '))\n",
    "        y = x in tup\n",
    "        if y == True:\n",
    "            print('\\nSi esta en la tupla')\n",
    "            exit()\n",
    "        else:\n",
    "            print('\\nNo esta en la tupla')\n",
    "            exit()\n",
    "    elif x == 's':\n",
    "        x = str(input('\\nIngresa string a verificar (Caps sensitive): '))\n",
    "        y = x in tup\n",
    "        if y == True:\n",
    "            print('\\nSi esta en la tupla')\n",
    "            exit()\n",
    "        else:\n",
    "            print('\\nNo esta en la tupla')\n",
    "            exit()\n",
    "    elif x == 'N':\n",
    "        x = int(input('\\nIngresa numero a verificar: '))\n",
    "        y = x in tup\n",
    "        if y == True:\n",
    "            print('\\nSi esta en la tupla')\n",
    "            exit()\n",
    "        else:\n",
    "            print('\\nNo esta en la tupla')\n",
    "            exit()\n",
    "    elif x == 'n':\n",
    "        x = int(input('\\nIngresa numero a verificar: '))\n",
    "        y = x in tup\n",
    "        if y == True:\n",
    "            print('\\nSi esta en la tupla')\n",
    "            exit()\n",
    "        else:\n",
    "            print('\\nNo esta en la tupla')\n",
    "            exit()\n",
    "        else:\n",
    "            print('Opcion no valida')"
   ]
  },
  {
   "cell_type": "code",
   "execution_count": 25,
   "metadata": {},
   "outputs": [
    {
     "name": "stdout",
     "output_type": "stream",
     "text": [
      "[283, 173, 168, 375, 406, 931, 875, 29, 171, 566, 206, 324, 509, 829, 554, 400, 460, 864, 755, 852, 179, 933, 523, 874, 387, 102, 304, 54, 359, 506, 923, 150, 986, 218, 744, 693, 897, 175, 299, 498]\n",
      "Lista de números pares:  [168, 406, 566, 206, 324, 554, 400, 460, 864, 852, 874, 102, 304, 54, 506, 150, 986, 218, 744, 498]\n",
      "Lista de impares:  [283, 173, 375, 931, 875, 29, 171, 509, 829, 755, 179, 933, 523, 387, 359, 923, 693, 897, 175, 299]\n",
      "Los pares miden:  20\n",
      "Los impares miden:  20\n",
      " Funciones de listas\n",
      "\n",
      " Imprimir los primeros 5 datos\n",
      "[283, 173, 168, 375]\n",
      " Ordenar la lista de menor a mayor\n",
      "[29, 54, 102, 150, 168, 171, 173, 175, 179, 206, 218, 283, 299, 304, 324, 359, 375, 387, 400, 406, 460, 498, 506, 509, 523, 554, 566, 693, 744, 755, 829, 852, 864, 874, 875, 897, 923, 931, 933, 986]\n",
      " Eliminar el ultimo elemento\n",
      "[29, 54, 102, 150, 168, 171, 173, 175, 179, 206, 218, 283, 299, 304, 324, 359, 375, 387, 400, 406, 460, 498, 506, 509, 523, 554, 566, 693, 744, 755, 829, 852, 864, 874, 875, 897, 923, 931, 933]\n"
     ]
    }
   ],
   "source": [
    "# Ejercicio 7\n",
    "#Listas\n",
    "import random\n",
    "\n",
    "lista = [0]  * 40\n",
    "for i in range(0,40,1):\n",
    "    lista[i] = random.randint(0, 1000)\n",
    "\n",
    "print(lista)\n",
    "\n",
    "def NumParImp(lista):\n",
    "    impares=[]\n",
    "    pares=[]\n",
    "    for i in range(len(lista)):\n",
    "        if lista[i]%2==0:\n",
    "            pares.append(lista[i])\n",
    "        else:\n",
    "            impares.append(lista[i])\n",
    "    return pares,impares\n",
    "\n",
    "pares,impares=NumParImp(lista)\n",
    "print(\"Lista de números pares: \",pares)\n",
    "print(\"Lista de impares: \",impares)\n",
    "\n",
    "par=len(pares)\n",
    "print (\"Los pares miden: \", par)\n",
    "\n",
    "impar=len(impares)\n",
    "print (\"Los impares miden: \", impar)\n",
    "print(\" Funciones de listas\")\n",
    "print()\n",
    "print (\" Imprimir los primeros 5 datos\")\n",
    "print (lista[0:4])\n",
    "print (\" Ordenar la lista de menor a mayor\")\n",
    "ordenar= lista.sort()\n",
    "print (lista)\n",
    "print (\" Eliminar el ultimo elemento\")\n",
    "removed= lista.pop()\n",
    "print (lista)"
   ]
  },
  {
   "cell_type": "code",
   "execution_count": 27,
   "metadata": {},
   "outputs": [
    {
     "name": "stdout",
     "output_type": "stream",
     "text": [
      "[53, 50, 26, 30, 21, 21]\n",
      "\n",
      "[21, 21, 26, 30, 50, 53]\n",
      "\n",
      "Lety\n",
      "Jose\n",
      "Pris\n",
      "Yare\n",
      "Manuel\n",
      "Maggie\n",
      "\n",
      "{'Lety': 53, 'Jose': 50, 'Pris': 26, 'Yare': 30, 'Manuel': 21, 'Maggie': 21, 'Daniel': 7, 'Mel': 22}\n"
     ]
    }
   ],
   "source": [
    "# Ejercicio 8\n",
    "#Diccionarios\n",
    "dicc ={\"Lety\":53,\"Jose\":50,\"Pris\":26,\"Yare\":30,\"Manuel\":21,\"Maggie\":21}\n",
    "\n",
    "edad = [i for i in dicc.values()]\n",
    "print (edad)\n",
    "print()\n",
    "edad.sort()\n",
    "print (edad)\n",
    "print()\n",
    "for i in dicc:\n",
    "    print (i)\n",
    "    \n",
    "print()\n",
    "dicc[\"Daniel\"]=7\n",
    "dicc[\"Mel\"]=22\n",
    "\n",
    "print (dicc)"
   ]
  },
  {
   "cell_type": "code",
   "execution_count": 30,
   "metadata": {},
   "outputs": [
    {
     "name": "stdout",
     "output_type": "stream",
     "text": [
      "{1, 3, 4, 5, 6, 7, 8, 9, 10, 11, 12, 13, 14, 15, 16, 17, 18, 19, 20, 21, 22, 23, 24, 25}\n",
      "\n",
      "24\n",
      "\n",
      "[10, 8, 2, 2, 8]\n",
      "\n",
      "Esta dentro del espacio:  10 True\n",
      "Esta dentro del espacio:  8 True\n",
      "Esta dentro del espacio:  2 False\n",
      "Esta dentro del espacio:  2 False\n",
      "Esta dentro del espacio:  8 True\n"
     ]
    }
   ],
   "source": [
    "# Ejercicio 9\n",
    "#Sets\n",
    "import random as r\n",
    "\n",
    "x={r.randint(1,25) for i in range(100)}\n",
    "print (x)    \n",
    "\n",
    "print()\n",
    "print (len (x))\n",
    "\n",
    "print()\n",
    "y=[r.randint(1,10) for i in range(5)]\n",
    "print (y)\n",
    "\n",
    "print()\n",
    "for i in range(len(y)):\n",
    "    print(\"Esta dentro del espacio: \", y[i], y[i] in x)"
   ]
  },
  {
   "cell_type": "code",
   "execution_count": null,
   "metadata": {},
   "outputs": [],
   "source": []
  }
 ],
 "metadata": {
  "kernelspec": {
   "display_name": "Python 3",
   "language": "python",
   "name": "python3"
  },
  "language_info": {
   "codemirror_mode": {
    "name": "ipython",
    "version": 3
   },
   "file_extension": ".py",
   "mimetype": "text/x-python",
   "name": "python",
   "nbconvert_exporter": "python",
   "pygments_lexer": "ipython3",
   "version": "3.8.5"
  }
 },
 "nbformat": 4,
 "nbformat_minor": 4
}
